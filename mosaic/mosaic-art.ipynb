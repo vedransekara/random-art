{
 "cells": [
  {
   "cell_type": "markdown",
   "id": "forty-cherry",
   "metadata": {},
   "source": [
    "# take an image, cut it up into smaller pieces and create art from its mosaic\n",
    "imspired by --> https://twitter.com/farahstlouis/status/1459494219505152006?s=20"
   ]
  },
  {
   "cell_type": "code",
   "execution_count": null,
   "id": "adverse-defeat",
   "metadata": {},
   "outputs": [],
   "source": [
    "import numpy as np\n",
    "import random\n",
    "import matplotlib.pyplot as plt\n",
    "import matplotlib.image as image\n",
    "%matplotlib notebook"
   ]
  },
  {
   "cell_type": "code",
   "execution_count": null,
   "id": "intermediate-exposure",
   "metadata": {},
   "outputs": [],
   "source": [
    "#image_name = 'monalisa'\n",
    "#image_name = 'marble'\n",
    "#image_name = 'blue-marble'\n",
    "#image_name = 'vitruvian-man'\n",
    "#image_name = 'satellite-tulips'\n",
    "#image_name = 'orange-moon'\n",
    "#image_name = 'butterfly-orange'\n",
    "#image_name = 'satellite-sand'\n",
    "image_name = 'satellite-sand'\n",
    "\n",
    "#path = 'orig_img/satellite-venice.jpg' # this image has a size thas is integers of 100-pixels\n",
    "#path = 'orig_img/satellite-istanbul.jpg' # this image has a size thas is integers of 100-pixels\n",
    "\n",
    "path = 'orig_img/%s.jpg' % image_name\n",
    "\n",
    "# load image\n",
    "img = image.imread(path)\n",
    "print(img.shape) # to make sure image dimension works"
   ]
  },
  {
   "cell_type": "code",
   "execution_count": null,
   "id": "hollywood-spectrum",
   "metadata": {},
   "outputs": [],
   "source": [
    "# cut image up into 100x100 pixels\n",
    "width = img.shape[1]\n",
    "height = img.shape[0]\n",
    "delta = 200 # for some images this looks cool\n",
    "#delta = 100\n",
    "\n",
    "parts = []\n",
    "for yy in range(0,height,delta):\n",
    "    for xx in range(0,width,delta):\n",
    "        parts.append(img[yy:yy+delta,xx:xx+delta,:])"
   ]
  },
  {
   "cell_type": "code",
   "execution_count": null,
   "id": "legal-debut",
   "metadata": {},
   "outputs": [],
   "source": [
    "# assemble parts into one image again\n",
    "reassembled_img = []\n",
    "\n",
    "x_parts = 3 # or whatever value you like\n",
    "y_parts = 3\n",
    "# iterate over rows\n",
    "for yi in range(y_parts):\n",
    "    # assemble rows\n",
    "    reassembled_img.append(np.reshape(random.sample(parts,x_parts),(x_parts*delta,delta,3)))\n",
    "# merge into one big matrix\n",
    "final_img = np.concatenate(reassembled_img,axis=1)"
   ]
  },
  {
   "cell_type": "code",
   "execution_count": null,
   "id": "dietary-coating",
   "metadata": {},
   "outputs": [],
   "source": [
    "plt.figure(figsize=(x_parts,y_parts))\n",
    "#plt.imshow(reassembled_img[1])\n",
    "plt.imshow(final_img)\n",
    "#plt.axis('off')\n",
    "plt.yticks([])\n",
    "plt.xticks([])\n",
    "plt.tight_layout()\n",
    "#plt.savefig('reassembled_img/butterfly-orange-1.png',dpi=300,bbox_inches=None, pad_inches=0.01)\n",
    "#plt.savefig('reassembled_img/satellite-venice-1.png',dpi=300,bbox_inches=None, pad_inches=0.01)\n",
    "#plt.savefig('reassembled_img/satellite-istanbul-1.png',dpi=300,bbox_inches=None, pad_inches=0.01)\n",
    "#plt.savefig('reassembled_img/satellite-sand-1.png',dpi=300,bbox_inches=None, pad_inches=0.01)\n",
    "#plt.savefig('reassembled_img/satellite-tulips-1.png',dpi=300,bbox_inches=None, pad_inches=0.01)\n",
    "#plt.savefig('reassembled_img/bricks.png',dpi=300,bbox_inches=None, pad_inches=0.01)\n",
    "#plt.savefig('reassembled_img/monalisa.png',dpi=300,bbox_inches=None, pad_inches=0.01)\n",
    "\n",
    "plt.savefig('reassembled_img/%s-2.png' % image_name,dpi=300,bbox_inches=None, pad_inches=0.01)\n",
    "#plt.show()\n",
    "plt.close()"
   ]
  },
  {
   "cell_type": "markdown",
   "id": "a8270d81",
   "metadata": {},
   "source": [
    "# Try to make a gif of a changing mosaic"
   ]
  },
  {
   "cell_type": "code",
   "execution_count": null,
   "id": "ee6c9652",
   "metadata": {},
   "outputs": [],
   "source": [
    "#image_name = 'monalisa'\n",
    "image_name = 'tsunami'\n",
    "#image_name = 'blue-marble'\n",
    "#image_name = 'vitruvian-man'\n",
    "#image_name = 'satellite-tulips'\n",
    "#image_name = 'butterfly-orange'\n",
    "\n",
    "#path = 'orig_img/satellite-venice.jpg' # this image has a size thas is integers of 100-pixels\n",
    "#path = 'orig_img/satellite-istanbul.jpg' # this image has a size thas is integers of 100-pixels\n",
    "\n",
    "path = 'orig_img/%s.jpg' % image_name\n",
    "\n",
    "# load image\n",
    "img = image.imread(path)\n",
    "print(img.shape) # to make sure image dimension works"
   ]
  },
  {
   "cell_type": "code",
   "execution_count": null,
   "id": "a593ea52",
   "metadata": {},
   "outputs": [],
   "source": [
    "# cut image up into 100x100 pixels\n",
    "width = img.shape[1]\n",
    "height = img.shape[0]\n",
    "delta = 300 # for some images this looks cool\n",
    "#delta = 100\n",
    "\n",
    "parts = []\n",
    "for yy in range(0,height,delta):\n",
    "    for xx in range(0,width,delta):\n",
    "        parts.append(img[yy:yy+delta,xx:xx+delta,:])"
   ]
  },
  {
   "cell_type": "code",
   "execution_count": null,
   "id": "33bfe505",
   "metadata": {},
   "outputs": [],
   "source": [
    "# assemble parts into one image again\n",
    "reassembled_img = []\n",
    "\n",
    "x_parts = 5 # or whatever value you like\n",
    "y_parts = 5\n",
    "# iterate over rows\n",
    "for yi in range(y_parts):\n",
    "    # assemble rows\n",
    "    reassembled_img.append(np.reshape(random.sample(parts,x_parts),(x_parts*delta,delta,3)))\n",
    "# merge into one big matrix\n",
    "final_img = np.concatenate(reassembled_img,axis=1)"
   ]
  },
  {
   "cell_type": "code",
   "execution_count": null,
   "id": "c9adf116",
   "metadata": {},
   "outputs": [],
   "source": [
    "for ii in range(200):\n",
    "    \n",
    "    # plot image\n",
    "    plt.figure(figsize=(x_parts,y_parts))\n",
    "    plt.imshow(final_img)\n",
    "    plt.yticks([])\n",
    "    plt.xticks([])\n",
    "    plt.tight_layout()\n",
    "    plt.savefig('reassembled_img/gif/%03d.png' % ii, dpi=300,bbox_inches=None, pad_inches=0.01)\n",
    "    plt.close()\n",
    "    \n",
    "    # pick new part\n",
    "    new_ = random.choice(parts)\n",
    "    # pick location of it\n",
    "    xnew_ = np.random.randint(0,x_parts)\n",
    "    ynew_ = np.random.randint(0,y_parts)\n",
    "    # input that into the old matrix\n",
    "    final_img[xnew_*delta:xnew_*delta+delta,ynew_*delta:ynew_*delta+delta,:] = new_"
   ]
  },
  {
   "cell_type": "code",
   "execution_count": null,
   "id": "1733ad48",
   "metadata": {},
   "outputs": [],
   "source": [
    "# create a video out of the stack of images\n",
    "# ffmpeg -r 30 -i reassembled_img/gif/%03d.png -vcodec libx264 -crf 25  -pix_fmt yuv420p movie.mp4"
   ]
  }
 ],
 "metadata": {
  "kernelspec": {
   "display_name": "Python 3",
   "language": "python",
   "name": "python3"
  },
  "language_info": {
   "codemirror_mode": {
    "name": "ipython",
    "version": 3
   },
   "file_extension": ".py",
   "mimetype": "text/x-python",
   "name": "python",
   "nbconvert_exporter": "python",
   "pygments_lexer": "ipython3",
   "version": "3.7.10"
  }
 },
 "nbformat": 4,
 "nbformat_minor": 5
}
