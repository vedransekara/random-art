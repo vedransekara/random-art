{
 "cells": [
  {
   "cell_type": "markdown",
   "id": "forty-cherry",
   "metadata": {},
   "source": [
    "# take an image, cut it up into smaller pieces and create art from its mosaic\n",
    "imspired by --> https://twitter.com/farahstlouis/status/1459494219505152006?s=20"
   ]
  },
  {
   "cell_type": "code",
   "execution_count": null,
   "id": "adverse-defeat",
   "metadata": {},
   "outputs": [],
   "source": [
    "import numpy as np\n",
    "import random\n",
    "import matplotlib.pyplot as plt\n",
    "import matplotlib.image as image\n",
    "%matplotlib notebook"
   ]
  },
  {
   "cell_type": "code",
   "execution_count": null,
   "id": "intermediate-exposure",
   "metadata": {},
   "outputs": [],
   "source": [
    "image_name = 'monalisa'\n",
    "path = 'orig_img/%s.jpg' % image_name\n",
    "\n",
    "# load image\n",
    "img = image.imread(path)\n",
    "print(img.shape) # to make sure image dimension works"
   ]
  },
  {
   "cell_type": "code",
   "execution_count": null,
   "id": "hollywood-spectrum",
   "metadata": {},
   "outputs": [],
   "source": [
    "# cut image up into 100x100 pixels\n",
    "width = img.shape[1]\n",
    "height = img.shape[0]\n",
    "#delta = 200 # for some images this looks cool\n",
    "delta = 100\n",
    "\n",
    "parts = []\n",
    "for yy in range(0,height,delta):\n",
    "    for xx in range(0,width,delta):\n",
    "        parts.append(img[yy:yy+delta,xx:xx+delta,:])"
   ]
  },
  {
   "cell_type": "code",
   "execution_count": null,
   "id": "legal-debut",
   "metadata": {},
   "outputs": [],
   "source": [
    "# assemble parts into one image again\n",
    "reassembled_img = []\n",
    "\n",
    "x_parts = 12 # or whatever value you like\n",
    "y_parts = 12\n",
    "# iterate over rows\n",
    "for yi in range(y_parts):\n",
    "    # assemble rows\n",
    "    reassembled_img.append(np.reshape(random.sample(parts,x_parts),(x_parts*delta,delta,3)))\n",
    "# merge into one big matrix\n",
    "final_img = np.concatenate(reassembled_img,axis=1)"
   ]
  },
  {
   "cell_type": "code",
   "execution_count": null,
   "id": "dietary-coating",
   "metadata": {},
   "outputs": [],
   "source": [
    "plt.figure(figsize=(x_parts,y_parts))\n",
    "#plt.imshow(reassembled_img[1])\n",
    "plt.imshow(final_img)\n",
    "#plt.axis('off')\n",
    "plt.yticks([])\n",
    "plt.xticks([])\n",
    "plt.tight_layout()\n",
    "\n",
    "plt.savefig('reassembled_img/%s.png' % image_name,dpi=300,bbox_inches=None, pad_inches=0.01)\n",
    "#plt.show()\n",
    "plt.close()"
   ]
  },
  {
   "cell_type": "code",
   "execution_count": null,
   "id": "micro-handling",
   "metadata": {},
   "outputs": [],
   "source": [
    "a = "
   ]
  },
  {
   "cell_type": "code",
   "execution_count": null,
   "id": "directed-reunion",
   "metadata": {},
   "outputs": [],
   "source": []
  }
 ],
 "metadata": {
  "kernelspec": {
   "display_name": "Python 3",
   "language": "python",
   "name": "python3"
  },
  "language_info": {
   "codemirror_mode": {
    "name": "ipython",
    "version": 3
   },
   "file_extension": ".py",
   "mimetype": "text/x-python",
   "name": "python",
   "nbconvert_exporter": "python",
   "pygments_lexer": "ipython3",
   "version": "3.7.10"
  }
 },
 "nbformat": 4,
 "nbformat_minor": 5
}
